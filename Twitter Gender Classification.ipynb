{
 "cells": [
  {
   "cell_type": "markdown",
   "metadata": {},
   "source": [
    "# importing the library"
   ]
  },
  {
   "cell_type": "code",
   "execution_count": 1,
   "metadata": {},
   "outputs": [],
   "source": [
    "import numpy as np\n",
    "import matplotlib.pyplot as plt\n",
    "import pandas as pd \n",
    "import seaborn as sns"
   ]
  },
  {
   "cell_type": "markdown",
   "metadata": {},
   "source": [
    "# load the data set"
   ]
  },
  {
   "cell_type": "code",
   "execution_count": 2,
   "metadata": {},
   "outputs": [],
   "source": [
    "df = pd.read_csv('gender-classifier.csv',encoding='latin1')"
   ]
  },
  {
   "cell_type": "code",
   "execution_count": 3,
   "metadata": {},
   "outputs": [
    {
     "data": {
      "text/html": [
       "<div>\n",
       "<style scoped>\n",
       "    .dataframe tbody tr th:only-of-type {\n",
       "        vertical-align: middle;\n",
       "    }\n",
       "\n",
       "    .dataframe tbody tr th {\n",
       "        vertical-align: top;\n",
       "    }\n",
       "\n",
       "    .dataframe thead th {\n",
       "        text-align: right;\n",
       "    }\n",
       "</style>\n",
       "<table border=\"1\" class=\"dataframe\">\n",
       "  <thead>\n",
       "    <tr style=\"text-align: right;\">\n",
       "      <th></th>\n",
       "      <th>_unit_id</th>\n",
       "      <th>_golden</th>\n",
       "      <th>_unit_state</th>\n",
       "      <th>_trusted_judgments</th>\n",
       "      <th>_last_judgment_at</th>\n",
       "      <th>gender</th>\n",
       "      <th>gender:confidence</th>\n",
       "      <th>profile_yn</th>\n",
       "      <th>profile_yn:confidence</th>\n",
       "      <th>created</th>\n",
       "      <th>...</th>\n",
       "      <th>profileimage</th>\n",
       "      <th>retweet_count</th>\n",
       "      <th>sidebar_color</th>\n",
       "      <th>text</th>\n",
       "      <th>tweet_coord</th>\n",
       "      <th>tweet_count</th>\n",
       "      <th>tweet_created</th>\n",
       "      <th>tweet_id</th>\n",
       "      <th>tweet_location</th>\n",
       "      <th>user_timezone</th>\n",
       "    </tr>\n",
       "  </thead>\n",
       "  <tbody>\n",
       "    <tr>\n",
       "      <th>0</th>\n",
       "      <td>815719226</td>\n",
       "      <td>False</td>\n",
       "      <td>finalized</td>\n",
       "      <td>3</td>\n",
       "      <td>10/26/15 23:24</td>\n",
       "      <td>male</td>\n",
       "      <td>1.0000</td>\n",
       "      <td>yes</td>\n",
       "      <td>1.0</td>\n",
       "      <td>12/5/13 1:48</td>\n",
       "      <td>...</td>\n",
       "      <td>https://pbs.twimg.com/profile_images/414342229...</td>\n",
       "      <td>0</td>\n",
       "      <td>FFFFFF</td>\n",
       "      <td>Robbie E Responds To Critics After Win Against...</td>\n",
       "      <td>NaN</td>\n",
       "      <td>110964</td>\n",
       "      <td>10/26/15 12:40</td>\n",
       "      <td>6.587300e+17</td>\n",
       "      <td>main; @Kan1shk3</td>\n",
       "      <td>Chennai</td>\n",
       "    </tr>\n",
       "    <tr>\n",
       "      <th>1</th>\n",
       "      <td>815719227</td>\n",
       "      <td>False</td>\n",
       "      <td>finalized</td>\n",
       "      <td>3</td>\n",
       "      <td>10/26/15 23:30</td>\n",
       "      <td>male</td>\n",
       "      <td>1.0000</td>\n",
       "      <td>yes</td>\n",
       "      <td>1.0</td>\n",
       "      <td>10/1/12 13:51</td>\n",
       "      <td>...</td>\n",
       "      <td>https://pbs.twimg.com/profile_images/539604221...</td>\n",
       "      <td>0</td>\n",
       "      <td>C0DEED</td>\n",
       "      <td>ÛÏIt felt like they were my friends and I was...</td>\n",
       "      <td>NaN</td>\n",
       "      <td>7471</td>\n",
       "      <td>10/26/15 12:40</td>\n",
       "      <td>6.587300e+17</td>\n",
       "      <td>NaN</td>\n",
       "      <td>Eastern Time (US &amp; Canada)</td>\n",
       "    </tr>\n",
       "    <tr>\n",
       "      <th>2</th>\n",
       "      <td>815719228</td>\n",
       "      <td>False</td>\n",
       "      <td>finalized</td>\n",
       "      <td>3</td>\n",
       "      <td>10/26/15 23:33</td>\n",
       "      <td>male</td>\n",
       "      <td>0.6625</td>\n",
       "      <td>yes</td>\n",
       "      <td>1.0</td>\n",
       "      <td>11/28/14 11:30</td>\n",
       "      <td>...</td>\n",
       "      <td>https://pbs.twimg.com/profile_images/657330418...</td>\n",
       "      <td>1</td>\n",
       "      <td>C0DEED</td>\n",
       "      <td>i absolutely adore when louis starts the songs...</td>\n",
       "      <td>NaN</td>\n",
       "      <td>5617</td>\n",
       "      <td>10/26/15 12:40</td>\n",
       "      <td>6.587300e+17</td>\n",
       "      <td>clcncl</td>\n",
       "      <td>Belgrade</td>\n",
       "    </tr>\n",
       "    <tr>\n",
       "      <th>3</th>\n",
       "      <td>815719229</td>\n",
       "      <td>False</td>\n",
       "      <td>finalized</td>\n",
       "      <td>3</td>\n",
       "      <td>10/26/15 23:10</td>\n",
       "      <td>male</td>\n",
       "      <td>1.0000</td>\n",
       "      <td>yes</td>\n",
       "      <td>1.0</td>\n",
       "      <td>6/11/09 22:39</td>\n",
       "      <td>...</td>\n",
       "      <td>https://pbs.twimg.com/profile_images/259703936...</td>\n",
       "      <td>0</td>\n",
       "      <td>C0DEED</td>\n",
       "      <td>Hi @JordanSpieth - Looking at the url - do you...</td>\n",
       "      <td>NaN</td>\n",
       "      <td>1693</td>\n",
       "      <td>10/26/15 12:40</td>\n",
       "      <td>6.587300e+17</td>\n",
       "      <td>Palo Alto, CA</td>\n",
       "      <td>Pacific Time (US &amp; Canada)</td>\n",
       "    </tr>\n",
       "    <tr>\n",
       "      <th>4</th>\n",
       "      <td>815719230</td>\n",
       "      <td>False</td>\n",
       "      <td>finalized</td>\n",
       "      <td>3</td>\n",
       "      <td>10/27/15 1:15</td>\n",
       "      <td>female</td>\n",
       "      <td>1.0000</td>\n",
       "      <td>yes</td>\n",
       "      <td>1.0</td>\n",
       "      <td>4/16/14 13:23</td>\n",
       "      <td>...</td>\n",
       "      <td>https://pbs.twimg.com/profile_images/564094871...</td>\n",
       "      <td>0</td>\n",
       "      <td>0</td>\n",
       "      <td>Watching Neighbours on Sky+ catching up with t...</td>\n",
       "      <td>NaN</td>\n",
       "      <td>31462</td>\n",
       "      <td>10/26/15 12:40</td>\n",
       "      <td>6.587300e+17</td>\n",
       "      <td>NaN</td>\n",
       "      <td>NaN</td>\n",
       "    </tr>\n",
       "  </tbody>\n",
       "</table>\n",
       "<p>5 rows × 26 columns</p>\n",
       "</div>"
      ],
      "text/plain": [
       "    _unit_id  _golden _unit_state  _trusted_judgments _last_judgment_at  \\\n",
       "0  815719226    False   finalized                   3    10/26/15 23:24   \n",
       "1  815719227    False   finalized                   3    10/26/15 23:30   \n",
       "2  815719228    False   finalized                   3    10/26/15 23:33   \n",
       "3  815719229    False   finalized                   3    10/26/15 23:10   \n",
       "4  815719230    False   finalized                   3     10/27/15 1:15   \n",
       "\n",
       "   gender  gender:confidence profile_yn  profile_yn:confidence  \\\n",
       "0    male             1.0000        yes                    1.0   \n",
       "1    male             1.0000        yes                    1.0   \n",
       "2    male             0.6625        yes                    1.0   \n",
       "3    male             1.0000        yes                    1.0   \n",
       "4  female             1.0000        yes                    1.0   \n",
       "\n",
       "          created  ...                                       profileimage  \\\n",
       "0    12/5/13 1:48  ...  https://pbs.twimg.com/profile_images/414342229...   \n",
       "1   10/1/12 13:51  ...  https://pbs.twimg.com/profile_images/539604221...   \n",
       "2  11/28/14 11:30  ...  https://pbs.twimg.com/profile_images/657330418...   \n",
       "3   6/11/09 22:39  ...  https://pbs.twimg.com/profile_images/259703936...   \n",
       "4   4/16/14 13:23  ...  https://pbs.twimg.com/profile_images/564094871...   \n",
       "\n",
       "   retweet_count sidebar_color  \\\n",
       "0              0        FFFFFF   \n",
       "1              0        C0DEED   \n",
       "2              1        C0DEED   \n",
       "3              0        C0DEED   \n",
       "4              0             0   \n",
       "\n",
       "                                                text tweet_coord tweet_count  \\\n",
       "0  Robbie E Responds To Critics After Win Against...         NaN      110964   \n",
       "1  ÛÏIt felt like they were my friends and I was...         NaN        7471   \n",
       "2  i absolutely adore when louis starts the songs...         NaN        5617   \n",
       "3  Hi @JordanSpieth - Looking at the url - do you...         NaN        1693   \n",
       "4  Watching Neighbours on Sky+ catching up with t...         NaN       31462   \n",
       "\n",
       "    tweet_created      tweet_id   tweet_location               user_timezone  \n",
       "0  10/26/15 12:40  6.587300e+17  main; @Kan1shk3                     Chennai  \n",
       "1  10/26/15 12:40  6.587300e+17              NaN  Eastern Time (US & Canada)  \n",
       "2  10/26/15 12:40  6.587300e+17           clcncl                    Belgrade  \n",
       "3  10/26/15 12:40  6.587300e+17    Palo Alto, CA  Pacific Time (US & Canada)  \n",
       "4  10/26/15 12:40  6.587300e+17              NaN                         NaN  \n",
       "\n",
       "[5 rows x 26 columns]"
      ]
     },
     "execution_count": 3,
     "metadata": {},
     "output_type": "execute_result"
    }
   ],
   "source": [
    "df.head()"
   ]
  },
  {
   "cell_type": "code",
   "execution_count": 4,
   "metadata": {},
   "outputs": [],
   "source": [
    "df = pd.concat([df.gender,df.description],axis=1)"
   ]
  },
  {
   "cell_type": "code",
   "execution_count": 5,
   "metadata": {},
   "outputs": [
    {
     "name": "stdout",
     "output_type": "stream",
     "text": [
      "<class 'pandas.core.frame.DataFrame'>\n",
      "RangeIndex: 20050 entries, 0 to 20049\n",
      "Data columns (total 2 columns):\n",
      "gender         19953 non-null object\n",
      "description    16306 non-null object\n",
      "dtypes: object(2)\n",
      "memory usage: 313.4+ KB\n"
     ]
    }
   ],
   "source": [
    "df.info()"
   ]
  },
  {
   "cell_type": "code",
   "execution_count": 6,
   "metadata": {},
   "outputs": [],
   "source": [
    "#let's drop NaN values\n",
    "df.dropna(axis=0,inplace=True)"
   ]
  },
  {
   "cell_type": "code",
   "execution_count": 7,
   "metadata": {},
   "outputs": [
    {
     "data": {
      "text/html": [
       "<div>\n",
       "<style scoped>\n",
       "    .dataframe tbody tr th:only-of-type {\n",
       "        vertical-align: middle;\n",
       "    }\n",
       "\n",
       "    .dataframe tbody tr th {\n",
       "        vertical-align: top;\n",
       "    }\n",
       "\n",
       "    .dataframe thead th {\n",
       "        text-align: right;\n",
       "    }\n",
       "</style>\n",
       "<table border=\"1\" class=\"dataframe\">\n",
       "  <thead>\n",
       "    <tr style=\"text-align: right;\">\n",
       "      <th></th>\n",
       "      <th>gender</th>\n",
       "      <th>description</th>\n",
       "    </tr>\n",
       "  </thead>\n",
       "  <tbody>\n",
       "    <tr>\n",
       "      <th>0</th>\n",
       "      <td>male</td>\n",
       "      <td>i sing my own rhythm.</td>\n",
       "    </tr>\n",
       "    <tr>\n",
       "      <th>1</th>\n",
       "      <td>male</td>\n",
       "      <td>I'm the author of novels filled with family dr...</td>\n",
       "    </tr>\n",
       "    <tr>\n",
       "      <th>2</th>\n",
       "      <td>male</td>\n",
       "      <td>louis whining and squealing and all</td>\n",
       "    </tr>\n",
       "    <tr>\n",
       "      <th>3</th>\n",
       "      <td>male</td>\n",
       "      <td>Mobile guy.  49ers, Shazam, Google, Kleiner Pe...</td>\n",
       "    </tr>\n",
       "    <tr>\n",
       "      <th>4</th>\n",
       "      <td>female</td>\n",
       "      <td>Ricky Wilson The Best FRONTMAN/Kaiser Chiefs T...</td>\n",
       "    </tr>\n",
       "  </tbody>\n",
       "</table>\n",
       "</div>"
      ],
      "text/plain": [
       "   gender                                        description\n",
       "0    male                              i sing my own rhythm.\n",
       "1    male  I'm the author of novels filled with family dr...\n",
       "2    male                louis whining and squealing and all\n",
       "3    male  Mobile guy.  49ers, Shazam, Google, Kleiner Pe...\n",
       "4  female  Ricky Wilson The Best FRONTMAN/Kaiser Chiefs T..."
      ]
     },
     "execution_count": 7,
     "metadata": {},
     "output_type": "execute_result"
    }
   ],
   "source": [
    "df.head()"
   ]
  },
  {
   "cell_type": "code",
   "execution_count": 8,
   "metadata": {},
   "outputs": [
    {
     "data": {
      "text/html": [
       "<div>\n",
       "<style scoped>\n",
       "    .dataframe tbody tr th:only-of-type {\n",
       "        vertical-align: middle;\n",
       "    }\n",
       "\n",
       "    .dataframe tbody tr th {\n",
       "        vertical-align: top;\n",
       "    }\n",
       "\n",
       "    .dataframe thead th {\n",
       "        text-align: right;\n",
       "    }\n",
       "</style>\n",
       "<table border=\"1\" class=\"dataframe\">\n",
       "  <thead>\n",
       "    <tr style=\"text-align: right;\">\n",
       "      <th></th>\n",
       "      <th>gender</th>\n",
       "      <th>description</th>\n",
       "    </tr>\n",
       "  </thead>\n",
       "  <tbody>\n",
       "    <tr>\n",
       "      <th>0</th>\n",
       "      <td>0</td>\n",
       "      <td>i sing my own rhythm.</td>\n",
       "    </tr>\n",
       "    <tr>\n",
       "      <th>1</th>\n",
       "      <td>0</td>\n",
       "      <td>I'm the author of novels filled with family dr...</td>\n",
       "    </tr>\n",
       "    <tr>\n",
       "      <th>2</th>\n",
       "      <td>0</td>\n",
       "      <td>louis whining and squealing and all</td>\n",
       "    </tr>\n",
       "    <tr>\n",
       "      <th>3</th>\n",
       "      <td>0</td>\n",
       "      <td>Mobile guy.  49ers, Shazam, Google, Kleiner Pe...</td>\n",
       "    </tr>\n",
       "    <tr>\n",
       "      <th>4</th>\n",
       "      <td>1</td>\n",
       "      <td>Ricky Wilson The Best FRONTMAN/Kaiser Chiefs T...</td>\n",
       "    </tr>\n",
       "    <tr>\n",
       "      <th>5</th>\n",
       "      <td>1</td>\n",
       "      <td>you don't know me.</td>\n",
       "    </tr>\n",
       "    <tr>\n",
       "      <th>6</th>\n",
       "      <td>0</td>\n",
       "      <td>A global marketplace for images, videos and mu...</td>\n",
       "    </tr>\n",
       "    <tr>\n",
       "      <th>7</th>\n",
       "      <td>0</td>\n",
       "      <td>The secret of getting ahead is getting started.</td>\n",
       "    </tr>\n",
       "    <tr>\n",
       "      <th>8</th>\n",
       "      <td>1</td>\n",
       "      <td>Pll Fan // Crazy about MCD // Ramen is bae</td>\n",
       "    </tr>\n",
       "    <tr>\n",
       "      <th>9</th>\n",
       "      <td>1</td>\n",
       "      <td>Renaissance art historian, University of Notti...</td>\n",
       "    </tr>\n",
       "  </tbody>\n",
       "</table>\n",
       "</div>"
      ],
      "text/plain": [
       "   gender                                        description\n",
       "0       0                              i sing my own rhythm.\n",
       "1       0  I'm the author of novels filled with family dr...\n",
       "2       0                louis whining and squealing and all\n",
       "3       0  Mobile guy.  49ers, Shazam, Google, Kleiner Pe...\n",
       "4       1  Ricky Wilson The Best FRONTMAN/Kaiser Chiefs T...\n",
       "5       1                                 you don't know me.\n",
       "6       0  A global marketplace for images, videos and mu...\n",
       "7       0    The secret of getting ahead is getting started.\n",
       "8       1         Pll Fan // Crazy about MCD // Ramen is bae\n",
       "9       1  Renaissance art historian, University of Notti..."
      ]
     },
     "execution_count": 8,
     "metadata": {},
     "output_type": "execute_result"
    }
   ],
   "source": [
    "df.gender = [1 if each == \"female\" else 0 for each in df.gender]\n",
    "df.head(10)"
   ]
  },
  {
   "cell_type": "code",
   "execution_count": 9,
   "metadata": {},
   "outputs": [
    {
     "data": {
      "text/plain": [
       "'Ricky Wilson The Best FRONTMAN/Kaiser Chiefs The Best BAND Xxxx Thank you Kaiser Chiefs for an incredible year of gigs and memories to cherish always :) Xxxxxxx'"
      ]
     },
     "execution_count": 9,
     "metadata": {},
     "output_type": "execute_result"
    }
   ],
   "source": [
    "df.description[4]"
   ]
  },
  {
   "cell_type": "markdown",
   "metadata": {},
   "source": [
    "# regular Expration"
   ]
  },
  {
   "cell_type": "code",
   "execution_count": 10,
   "metadata": {},
   "outputs": [
    {
     "data": {
      "text/plain": [
       "'ricky wilson the best frontman kaiser chiefs the best band xxxx thank you kaiser chiefs for an incredible year of gigs and memories to cherish always    xxxxxxx'"
      ]
     },
     "execution_count": 10,
     "metadata": {},
     "output_type": "execute_result"
    }
   ],
   "source": [
    "import re\n",
    "first_description = df.description[4]\n",
    "description = re.sub(\"[^a-zA-Z]\",\" \",first_description)\n",
    "description = description.lower()\n",
    "description"
   ]
  },
  {
   "cell_type": "code",
   "execution_count": 11,
   "metadata": {},
   "outputs": [
    {
     "data": {
      "text/plain": [
       "['ricky',\n",
       " 'wilson',\n",
       " 'best',\n",
       " 'frontman',\n",
       " 'kaiser',\n",
       " 'chiefs',\n",
       " 'best',\n",
       " 'band',\n",
       " 'xxxx',\n",
       " 'thank',\n",
       " 'kaiser',\n",
       " 'chiefs',\n",
       " 'incredible',\n",
       " 'year',\n",
       " 'gigs',\n",
       " 'memories',\n",
       " 'cherish',\n",
       " 'always',\n",
       " 'xxxxxxx']"
      ]
     },
     "execution_count": 11,
     "metadata": {},
     "output_type": "execute_result"
    }
   ],
   "source": [
    "import nltk\n",
    "from nltk.corpus import stopwords\n",
    "description = nltk.word_tokenize(description)\n",
    "description = [word for word in description if not word in set(stopwords.words(\"english\"))]\n",
    "description"
   ]
  },
  {
   "cell_type": "markdown",
   "metadata": {},
   "source": [
    "# Lemmatazation"
   ]
  },
  {
   "cell_type": "code",
   "execution_count": 12,
   "metadata": {},
   "outputs": [
    {
     "data": {
      "text/plain": [
       "['ricky',\n",
       " 'wilson',\n",
       " 'best',\n",
       " 'frontman',\n",
       " 'kaiser',\n",
       " 'chief',\n",
       " 'best',\n",
       " 'band',\n",
       " 'xxxx',\n",
       " 'thank',\n",
       " 'kaiser',\n",
       " 'chief',\n",
       " 'incredible',\n",
       " 'year',\n",
       " 'gig',\n",
       " 'memory',\n",
       " 'cherish',\n",
       " 'always',\n",
       " 'xxxxxxx']"
      ]
     },
     "execution_count": 12,
     "metadata": {},
     "output_type": "execute_result"
    }
   ],
   "source": [
    "import nltk as nlp\n",
    "\n",
    "lemma = nlp.WordNetLemmatizer()\n",
    "description = [lemma.lemmatize(word) for word in description]\n",
    "description"
   ]
  },
  {
   "cell_type": "code",
   "execution_count": 13,
   "metadata": {},
   "outputs": [
    {
     "data": {
      "text/plain": [
       "'ricky wilson best frontman kaiser chief best band xxxx thank kaiser chief incredible year gig memory cherish always xxxxxxx'"
      ]
     },
     "execution_count": 13,
     "metadata": {},
     "output_type": "execute_result"
    }
   ],
   "source": [
    "description = \" \".join(description)\n",
    "description"
   ]
  },
  {
   "cell_type": "markdown",
   "metadata": {},
   "source": [
    "# Apply to All Description"
   ]
  },
  {
   "cell_type": "code",
   "execution_count": 14,
   "metadata": {},
   "outputs": [],
   "source": [
    "description_list = []\n",
    "for description in df.description:\n",
    "    description = re.sub(\"[^a-zA-Z]\",\" \",description)\n",
    "    description = description.lower()\n",
    "    description = nltk.word_tokenize(description)\n",
    "    lemma = nlp.WordNetLemmatizer()\n",
    "    description = [lemma.lemmatize(word) for word in description]\n",
    "    description = \" \".join(description)\n",
    "    description_list.append(description)"
   ]
  },
  {
   "cell_type": "code",
   "execution_count": 15,
   "metadata": {},
   "outputs": [
    {
     "name": "stdout",
     "output_type": "stream",
     "text": [
      "1000 most common words: ['account', 'action', 'activist', 'actor', 'actress', 'addict', 'addicted', 'adult', 'adventure', 'advertising', 'advice', 'advisor', 'advocate', 'affair', 'affiliate', 'aficionado', 'african', 'age', 'agency', 'ain', 'air', 'aka', 'alive', 'alternative', 'alum', 'alumnus', 'amateur', 'amazing', 'ambassador', 'america', 'american', 'analysis', 'analyst', 'android', 'angel', 'animal', 'anime', 'answer', 'anti', 'app', 'apple', 'area', 'arsenal', 'art', 'artist', 'ask', 'aspiring', 'assistant', 'association', 'atheist', 'athlete', 'athletics', 'au', 'author', 'available', 'average', 'avid', 'award', 'away', 'awesome', 'baby', 'bad', 'bae', 'ball', 'band', 'baseball', 'based', 'basketball', 'beach', 'bear', 'beat', 'beautiful', 'beauty', 'beer', 'believe', 'believer', 'best', 'better', 'bi', 'bieber', 'big', 'biggest', 'bio', 'bit', 'bitch', 'black', 'blacklivesmatter', 'blessed', 'blind', 'blog', 'blogger', 'blue', 'board', 'body', 'book', 'booking', 'born', 'bot', 'boxing', 'boy', 'brand', 'breaking', 'bring', 'bringing', 'british', 'broken', 'brother', 'brown', 'build', 'building', 'business', 'buy', 'ca', 'cab', 'cake', 'california', 'called', 'canada', 'canadian', 'cancer', 'car', 'card', 'care', 'career', 'cat', 'cause', 'celebrity', 'center', 'ceo', 'certified', 'champion', 'change', 'channel', 'character', 'chat', 'check', 'chelsea', 'chicago', 'chief', 'child', 'chocolate', 'choice', 'christ', 'christian', 'church', 'city', 'class', 'classic', 'click', 'client', 'cloud', 'club', 'coach', 'coast', 'coffee', 'collector', 'college', 'com', 'come', 'comedian', 'comic', 'coming', 'commercial', 'communication', 'community', 'company', 'computer', 'concert', 'conservative', 'consultant', 'contact', 'content', 'continuous', 'contributor', 'control', 'cook', 'cool', 'country', 'county', 'course', 'cover', 'coverage', 'covering', 'craft', 'crazy', 'create', 'created', 'creating', 'creative', 'creator', 'credit', 'cricket', 'culture', 'current', 'currently', 'customer', 'cute', 'da', 'dad', 'daddy', 'daily', 'damn', 'dan', 'dance', 'dancer', 'dark', 'data', 'date', 'daughter', 'day', 'dc', 'dead', 'deal', 'death', 'dedicated', 'deep', 'design', 'designer', 'developer', 'development', 'did', 'didn', 'die', 'different', 'digital', 'direction', 'director', 'discover', 'disney', 'dj', 'dm', 'doe', 'doesn', 'dog', 'doing', 'don', 'dont', 'draw', 'dream', 'dreamer', 'drink', 'dude', 'earth', 'east', 'easy', 'eat', 'ed', 'editor', 'education', 'el', 'email', 'employer', 'empowered', 'en', 'end', 'endorsement', 'engineer', 'england', 'english', 'enjoy', 'entertainment', 'enthusiast', 'entrepreneur', 'er', 'especially', 'est', 'estate', 'et', 'event', 'everyday', 'ex', 'executive', 'experience', 'expert', 'expressed', 'extremely', 'eye', 'face', 'facebook', 'faith', 'fall', 'family', 'fan', 'fanatic', 'fangirl', 'fantasy', 'fashion', 'fast', 'father', 'favorite', 'favourite', 'fb', 'fc', 'fear', 'feature', 'feed', 'feel', 'female', 'feminist', 'fi', 'fiction', 'fight', 'fighting', 'film', 'finance', 'financial', 'financially', 'finding', 'fine', 'firm', 'fish', 'fitness', 'flash', 'florida', 'fly', 'fm', 'focus', 'follow', 'followed', 'follower', 'following', 'follows', 'food', 'foodie', 'football', 'forever', 'forget', 'founder', 'freak', 'free', 'freedom', 'freelance', 'fresh', 'friend', 'friendly', 'fuck', 'fucking', 'fun', 'funny', 'future', 'game', 'gamer', 'gaming', 'gay', 'geek', 'general', 'geo', 'geography', 'getting', 'gift', 'girl', 'global', 'gmail', 'goal', 'god', 'going', 'gold', 'golf', 'gon', 'good', 'google', 'got', 'government', 'grad', 'graduate', 'graphic', 'great', 'greatest', 'green', 'grfoxfjwpv', 'group', 'grow', 'guide', 'guitar', 'guy', 'gym', 'ha', 'hair', 'half', 'hand', 'happen', 'happening', 'happiness', 'happy', 'hard', 'harry', 'hate', 'having', 'head', 'health', 'healthcare', 'healthy', 'heart', 'hell', 'hello', 'help', 'helping', 'hero', 'hey', 'hi', 'high', 'highly', 'hip', 'history', 'hit', 'hockey', 'holder', 'home', 'hop', 'hope', 'host', 'hot', 'hottest', 'hour', 'house', 'houston', 'http', 'huge', 'human', 'humble', 'husband', 'icon', 'idea', 'ig', 'im', 'image', 'important', 'improve', 'independent', 'indie', 'individual', 'industry', 'info', 'information', 'innovation', 'inquiry', 'inspiration', 'inspirational', 'insta', 'instagram', 'interested', 'interesting', 'international', 'internet', 'interview', 'investment', 'io', 'iphone', 'irish', 'isn', 'issue', 'item', 'itunes', 'jack', 'james', 'jesus', 'job', 'john', 'join', 'joke', 'journalist', 'junior', 'junkie', 'just', 'justice', 'justin', 'kath', 'keeping', 'key', 'kid', 'kind', 'king', 'know', 'knowledge', 'known', 'la', 'lady', 'language', 'largest', 'latest', 'laugh', 'law', 'lawyer', 'le', 'lead', 'leader', 'leadership', 'leading', 'league', 'learn', 'learning', 'leave', 'left', 'legal', 'legend', 'lesson', 'let', 'level', 'liberal', 'library', 'life', 'lifestyle', 'light', 'like', 'lil', 'line', 'link', 'listen', 'little', 'live', 'liverpool', 'living', 'll', 'local', 'location', 'lol', 'london', 'long', 'look', 'looking', 'lord', 'los', 'lost', 'lot', 'louis', 'love', 'loved', 'lover', 'loving', 'ma', 'mad', 'magazine', 'mail', 'major', 'make', 'maker', 'makeup', 'making', 'male', 'man', 'management', 'manager', 'managing', 'manchester', 'map', 'market', 'marketer', 'marketing', 'married', 'master', 'math', 'matter', 'maybe', 'mean', 'medical', 'medium', 'meet', 'member', 'meme', 'men', 'met', 'metal', 'mi', 'miami', 'michael', 'military', 'mind', 'minute', 'miss', 'mission', 'mix', 'mobile', 'model', 'modern', 'mom', 'moment', 'mon', 'monday', 'money', 'moon', 'morning', 'mother', 'movie', 'mr', 'mufc', 'mum', 'music', 'musician', 'na', 'nation', 'national', 'native', 'natural', 'nature', 'nba', 'nd', 'need', 'nerd', 'network', 'new', 'news', 'nfl', 'nice', 'nigeria', 'nigga', 'night', 'non', 'north', 'novel', 'nsfw', 'number', 'ny', 'nyc', 'obsessed', 'occasional', 'offer', 'office', 'official', 'oh', 'ohio', 'old', 'online', 'open', 'opinion', 'opportunity', 'order', 'organization', 'original', 'outlook', 'owner', 'page', 'pain', 'paper', 'parent', 'partner', 'party', 'passion', 'passionate', 'pc', 'peace', 'people', 'perfect', 'person', 'personal', 'pet', 'phd', 'phone', 'photo', 'photographer', 'photography', 'pic', 'picture', 'piece', 'pizza', 'place', 'plan', 'play', 'player', 'playing', 'plus', 'pm', 'podcast', 'poet', 'policy', 'political', 'politics', 'pop', 'porn', 'positive', 'post', 'power', 'pr', 'practice', 'premier', 'president', 'press', 'pretty', 'price', 'prince', 'princess', 'private', 'pro', 'probably', 'problem', 'producer', 'product', 'production', 'prof', 'professional', 'professor', 'profile', 'profit', 'program', 'progress', 'progressive', 'project', 'promo', 'promote', 'promoting', 'promotion', 'property', 'proud', 'provide', 'provides', 'providing', 'public', 'published', 'publisher', 'purpose', 'quality', 'que', 'queen', 'question', 'quiz', 'quote', 'radio', 'raised', 'random', 'rap', 'read', 'reader', 'reading', 'ready', 'real', 'reality', 'really', 'reason', 'record', 'red', 'register', 'related', 'relationship', 'remember', 'rendezvous', 'reporter', 'research', 'resident', 'resource', 'rest', 'restaurant', 'retired', 'retweets', 'review', 'right', 'rip', 'road', 'rock', 'romance', 'rp', 'rt', 'rts', 'rule', 'run', 'runner', 'running', 'rzoj', 'sad', 'said', 'sale', 'san', 'save', 'say', 'sc', 'school', 'sci', 'science', 'se', 'search', 'season', 'seattle', 'second', 'secret', 'secure', 'security', 'seen', 'self', 'sell', 'selling', 'send', 'senior', 'sense', 'seo', 'series', 'service', 'serving', 'set', 'sex', 'sexy', 'shall', 'share', 'sharing', 'shit', 'shop', 'shopping', 'short', 'sign', 'simple', 'singer', 'single', 'sister', 'site', 'sleep', 'small', 'smile', 'snap', 'snapchat', 'soccer', 'social', 'socialmedia', 'society', 'software', 'solution', 'son', 'song', 'songwriter', 'soon', 'sorry', 'soul', 'sound', 'source', 'south', 'southern', 'space', 'speaker', 'special', 'specialist', 'specializing', 'spirit', 'spiritually', 'sport', 'st', 'stan', 'stand', 'star', 'start', 'started', 'startup', 'state', 'station', 'stay', 'step', 'stock', 'stop', 'store', 'story', 'straight', 'strategist', 'strategy', 'stream', 'streamer', 'street', 'strength', 'strong', 'student', 'study', 'stuff', 'style', 'subscribe', 'success', 'sun', 'super', 'support', 'supporter', 'supporting', 'sure', 'sweet', 'ta', 'taken', 'taking', 'talent', 'talk', 'talkradio', 'targeted', 'tea', 'teacher', 'team', 'tech', 'technology', 'tell', 'tennis', 'texas', 'th', 'thank', 'thanks', 'theatre', 'thing', 'think', 'thinking', 'thought', 'ticket', 'time', 'tip', 'today', 'tour', 'town', 'track', 'trade', 'trainer', 'training', 'trash', 'travel', 'traveler', 'traveller', 'trend', 'true', 'trump', 'trust', 'truth', 'try', 'trying', 'turn', 'tv', 'tweet', 'tweeting', 'tweetmyjobs', 'twin', 'twitch', 'twitter', 'type', 'uk', 'unique', 'united', 'universe', 'university', 'update', 'ur', 'urban', 'usa', 'use', 'using', 've', 'vegan', 'veteran', 'vibe', 'video', 'view', 'vintage', 'visit', 'voice', 'volunteer', 'wa', 'wait', 'walk', 'walking', 'wan', 'want', 'war', 'warrior', 'washington', 'watch', 'watching', 'water', 'way', 'wear', 'weather', 'web', 'website', 'wedding', 'week', 'weird', 'welcome', 'west', 'white', 'wife', 'wild', 'win', 'wine', 'winner', 'winning', 'wish', 'wolf', 'woman', 'won', 'word', 'work', 'worker', 'working', 'world', 'worldwide', 'worth', 'wrestling', 'write', 'writer', 'writing', 'wrong', 'wwe', 'xx', 'ya', 'yeah', 'year', 'yes', 'yo', 'yoga', 'york', 'young', 'youth', 'youtube', 'youtuber', 'yr', 'zayn']\n"
     ]
    }
   ],
   "source": [
    "from sklearn.feature_extraction.text import CountVectorizer\n",
    "max_features = 1000\n",
    "count_vectorizer = CountVectorizer(max_features=max_features,stop_words = \"english\")\n",
    "\n",
    "sparce_matrix = count_vectorizer.fit_transform(description_list).toarray() \n",
    "\n",
    "print(\"{} most common words: {}\".format(max_features,count_vectorizer.get_feature_names()))"
   ]
  },
  {
   "cell_type": "code",
   "execution_count": 16,
   "metadata": {},
   "outputs": [],
   "source": [
    "# split the data into train test split\n",
    "y = df.iloc[:,0].values\n",
    "x = sparce_matrix\n",
    "from sklearn.model_selection import train_test_split\n",
    "x_train, x_test, y_train, y_test = train_test_split(x,y, test_size = 0.1, random_state = 42)"
   ]
  },
  {
   "cell_type": "code",
   "execution_count": 17,
   "metadata": {},
   "outputs": [
    {
     "name": "stdout",
     "output_type": "stream",
     "text": [
      "[[0 0 0 ... 0 0 0]\n",
      " [0 0 0 ... 0 0 0]\n",
      " [0 0 0 ... 0 0 0]\n",
      " ...\n",
      " [0 0 0 ... 0 0 0]\n",
      " [0 0 0 ... 0 0 0]\n",
      " [0 0 0 ... 0 0 0]]\n"
     ]
    }
   ],
   "source": [
    "print(x_train)"
   ]
  },
  {
   "cell_type": "markdown",
   "metadata": {},
   "source": [
    "# Creating and Training the Model"
   ]
  },
  {
   "cell_type": "code",
   "execution_count": 20,
   "metadata": {},
   "outputs": [
    {
     "name": "stdout",
     "output_type": "stream",
     "text": [
      "accuracy:  0.6592729513247073\n"
     ]
    }
   ],
   "source": [
    "from sklearn.ensemble import RandomForestClassifier\n",
    "\n",
    "clasifier = RandomForestClassifier(n_estimators = 100)\n",
    "\n",
    "clasifier.fit(x_train,y_train)\n",
    "\n",
    "print(\"accuracy: \",rf.score(x_test,y_test))"
   ]
  },
  {
   "cell_type": "markdown",
   "metadata": {},
   "source": [
    "# Predict the newresult"
   ]
  },
  {
   "cell_type": "code",
   "execution_count": 21,
   "metadata": {},
   "outputs": [],
   "source": [
    "y_pred = clasifier.predict(x_test)"
   ]
  },
  {
   "cell_type": "markdown",
   "metadata": {},
   "source": [
    "# making confusion matrix"
   ]
  },
  {
   "cell_type": "code",
   "execution_count": 22,
   "metadata": {},
   "outputs": [
    {
     "data": {
      "text/plain": [
       "<matplotlib.axes._subplots.AxesSubplot at 0x1a6039f8be0>"
      ]
     },
     "execution_count": 22,
     "metadata": {},
     "output_type": "execute_result"
    },
    {
     "data": {
      "image/png": "[encoded data removed]",
      "text/plain": [
       "<Figure size 432x288 with 1 Axes>"
      ]
     },
     "metadata": {
      "needs_background": "light"
     },
     "output_type": "display_data"
    }
   ],
   "source": [
    "from sklearn.metrics import confusion_matrix\n",
    "cm = confusion_matrix(y_pred, y_test)\n",
    "sns.heatmap(cm,annot=True,fmt=\".0f\",cbar=False)"
   ]
  },
  {
   "cell_type": "code",
   "execution_count": null,
   "metadata": {},
   "outputs": [],
   "source": []
  }
 ],
 "metadata": {
  "kernelspec": {
   "display_name": "Python 3",
   "language": "python",
   "name": "python3"
  },
  "language_info": {
   "codemirror_mode": {
    "name": "ipython",
    "version": 3
   },
   "file_extension": ".py",
   "mimetype": "text/x-python",
   "name": "python",
   "nbconvert_exporter": "python",
   "pygments_lexer": "ipython3",
   "version": "3.7.3"
  }
 },
 "nbformat": 4,
 "nbformat_minor": 2
}
